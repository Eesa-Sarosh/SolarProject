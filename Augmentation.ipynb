{
 "cells": [
  {
   "cell_type": "code",
   "execution_count": 5,
   "id": "0acafb10-ff41-4663-8bbe-327e8c201a35",
   "metadata": {},
   "outputs": [],
   "source": [
    "import os\n",
    "import numpy as np\n",
    "from tensorflow.keras.preprocessing.image import ImageDataGenerator, img_to_array, load_img, save_img\n",
    "\n",
    "# Directories\n",
    "input_dir = '/Users/macbookpro/Desktop/SolarProject/Non_SolarFarms'\n",
    "output_dir = '/Users/macbookpro/Desktop/SolarProject/Augmented_Non_SolarFarms'\n",
    "\n",
    "# Create the output directory if it doesn't exist\n",
    "if not os.path.exists(output_dir):\n",
    "    os.makedirs(output_dir)\n",
    "\n",
    "# Initialize the ImageDataGenerator for augmentation\n",
    "datagen = ImageDataGenerator(\n",
    "    rotation_range=20,\n",
    "    zoom_range=(1.0, 1.2),\n",
    "    horizontal_flip=True,\n",
    "    fill_mode='nearest'\n",
    ")\n",
    "\n",
    "# Function to augment images\n",
    "def augment_images(file_name, num_augmented_images=1):\n",
    "    # Load the image\n",
    "    img = load_img(file_name)\n",
    "    x = img_to_array(img)\n",
    "    x = np.expand_dims(x, axis=0)\n",
    "    \n",
    "    # Create an iterator to generate augmented images\n",
    "    it = datagen.flow(x, batch_size=1)\n",
    "    \n",
    "    for i in range(num_augmented_images):\n",
    "        # Generate batch of images\n",
    "        batch = next(it)\n",
    "        # Convert to uint8\n",
    "        image = batch[0].astype('uint8')\n",
    "        # Save the augmented image\n",
    "        augmented_file_path = os.path.join(output_dir, f\"{os.path.basename(file_name).split('.')[0]}_augmented_{i}.jpg\")\n",
    "        save_img(augmented_file_path, image)\n",
    "\n",
    "# Apply augmentation and save images\n",
    "for img_file in os.listdir(input_dir):\n",
    "    if img_file.lower().endswith(('png', 'jpg', 'jpeg')):\n",
    "        augment_images(os.path.join(input_dir, img_file), num_augmented_images=1)  # Adjust the number of augmented images per original image as needed\n"
   ]
  },
  {
   "cell_type": "code",
   "execution_count": null,
   "id": "f409b3de-2525-48fb-a44d-e174bdf31699",
   "metadata": {},
   "outputs": [],
   "source": []
  }
 ],
 "metadata": {
  "kernelspec": {
   "display_name": "Python 3 (ipykernel)",
   "language": "python",
   "name": "python3"
  },
  "language_info": {
   "codemirror_mode": {
    "name": "ipython",
    "version": 3
   },
   "file_extension": ".py",
   "mimetype": "text/x-python",
   "name": "python",
   "nbconvert_exporter": "python",
   "pygments_lexer": "ipython3",
   "version": "3.12.4"
  }
 },
 "nbformat": 4,
 "nbformat_minor": 5
}

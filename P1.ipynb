{
 "cells": [
  {
   "cell_type": "code",
   "execution_count": 2,
   "id": "b2bfb00b-bbe2-4a48-924c-0bdea1b16d1f",
   "metadata": {},
   "outputs": [
    {
     "ename": "FileNotFoundError",
     "evalue": "[Errno 2] No such file or directory: './Users/macbookpro/Desktop/SolarProject/SolarFarm_Images'",
     "output_type": "error",
     "traceback": [
      "\u001b[0;31m---------------------------------------------------------------------------\u001b[0m",
      "\u001b[0;31mFileNotFoundError\u001b[0m                         Traceback (most recent call last)",
      "Cell \u001b[0;32mIn[2], line 16\u001b[0m\n\u001b[1;32m     13\u001b[0m non_solar_farm_folder \u001b[38;5;241m=\u001b[39m \u001b[38;5;124m'\u001b[39m\u001b[38;5;124m./Users/macbookpro/Desktop/SolarProject/Non_SolarFarms\u001b[39m\u001b[38;5;124m'\u001b[39m\n\u001b[1;32m     15\u001b[0m \u001b[38;5;66;03m# Create labels\u001b[39;00m\n\u001b[0;32m---> 16\u001b[0m \u001b[43mcreate_labels\u001b[49m\u001b[43m(\u001b[49m\u001b[43msolar_farm_folder\u001b[49m\u001b[43m,\u001b[49m\u001b[43m \u001b[49m\u001b[38;5;241;43m1\u001b[39;49m\u001b[43m)\u001b[49m  \u001b[38;5;66;03m# Label 1 for solar farms\u001b[39;00m\n\u001b[1;32m     17\u001b[0m create_labels(non_solar_farm_folder, \u001b[38;5;241m0\u001b[39m)  \u001b[38;5;66;03m# Label 0 for non-solar farms\u001b[39;00m\n",
      "Cell \u001b[0;32mIn[2], line 7\u001b[0m, in \u001b[0;36mcreate_labels\u001b[0;34m(image_folder, label)\u001b[0m\n\u001b[1;32m      5\u001b[0m \u001b[38;5;28;01mwith\u001b[39;00m \u001b[38;5;28mopen\u001b[39m(\u001b[38;5;124m'\u001b[39m\u001b[38;5;124mlabels.csv\u001b[39m\u001b[38;5;124m'\u001b[39m, \u001b[38;5;124m'\u001b[39m\u001b[38;5;124ma\u001b[39m\u001b[38;5;124m'\u001b[39m, newline\u001b[38;5;241m=\u001b[39m\u001b[38;5;124m'\u001b[39m\u001b[38;5;124m'\u001b[39m) \u001b[38;5;28;01mas\u001b[39;00m file:\n\u001b[1;32m      6\u001b[0m     writer \u001b[38;5;241m=\u001b[39m csv\u001b[38;5;241m.\u001b[39mwriter(file)\n\u001b[0;32m----> 7\u001b[0m     \u001b[38;5;28;01mfor\u001b[39;00m filename \u001b[38;5;129;01min\u001b[39;00m \u001b[43mos\u001b[49m\u001b[38;5;241;43m.\u001b[39;49m\u001b[43mlistdir\u001b[49m\u001b[43m(\u001b[49m\u001b[43mimage_folder\u001b[49m\u001b[43m)\u001b[49m:\n\u001b[1;32m      8\u001b[0m         \u001b[38;5;28;01mif\u001b[39;00m filename\u001b[38;5;241m.\u001b[39mendswith((\u001b[38;5;124m'\u001b[39m\u001b[38;5;124m.jpg\u001b[39m\u001b[38;5;124m'\u001b[39m, \u001b[38;5;124m'\u001b[39m\u001b[38;5;124m.png\u001b[39m\u001b[38;5;124m'\u001b[39m)):\n\u001b[1;32m      9\u001b[0m             writer\u001b[38;5;241m.\u001b[39mwriterow([filename, label])\n",
      "\u001b[0;31mFileNotFoundError\u001b[0m: [Errno 2] No such file or directory: './Users/macbookpro/Desktop/SolarProject/SolarFarm_Images'"
     ]
    }
   ],
   "source": [
    "import os\n",
    "import csv\n",
    "\n",
    "def create_labels(image_folder, label):\n",
    "    with open('labels.csv', 'a', newline='') as file:\n",
    "        writer = csv.writer(file)\n",
    "        for filename in os.listdir(image_folder):\n",
    "            if filename.endswith(('.jpg', '.png')):\n",
    "                writer.writerow([filename, label])\n",
    "\n",
    "# Paths to your image folders\n",
    "solar_farm_folder = './Users/macbookpro/Desktop/SolarProject/SolarFarm_Images'\n",
    "non_solar_farm_folder = './Users/macbookpro/Desktop/SolarProject/Non_SolarFarms'\n",
    "\n",
    "# Create labels\n",
    "create_labels(solar_farm_folder, 1)  # Label 1 for solar farms\n",
    "create_labels(non_solar_farm_folder, 0)  # Label 0 for non-solar farms\n"
   ]
  },
  {
   "cell_type": "code",
   "execution_count": null,
   "id": "f571fa56-da56-463e-b42c-6c5bbf871454",
   "metadata": {},
   "outputs": [],
   "source": []
  }
 ],
 "metadata": {
  "kernelspec": {
   "display_name": "Python 3 (ipykernel)",
   "language": "python",
   "name": "python3"
  },
  "language_info": {
   "codemirror_mode": {
    "name": "ipython",
    "version": 3
   },
   "file_extension": ".py",
   "mimetype": "text/x-python",
   "name": "python",
   "nbconvert_exporter": "python",
   "pygments_lexer": "ipython3",
   "version": "3.12.4"
  }
 },
 "nbformat": 4,
 "nbformat_minor": 5
}
